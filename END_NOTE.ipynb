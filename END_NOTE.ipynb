{
 "cells": [
  {
   "cell_type": "code",
   "execution_count": 1,
   "id": "8b0d731b-5f75-430f-9ee0-7156f9e5baa3",
   "metadata": {},
   "outputs": [],
   "source": [
    "import pandas as pd\n",
    "from collections import defaultdict, Counter\n",
    "import re"
   ]
  },
  {
   "cell_type": "code",
   "execution_count": 2,
   "id": "4701b5d9-61a7-43c4-8b4e-7a799d29e4eb",
   "metadata": {},
   "outputs": [
    {
     "data": {
      "text/plain": [
       "['\\ufeffReference Type:  Journal Article',\n",
       " 'Record Number: 974',\n",
       " 'Author: Umfress, A., Chakraborti, A., Priya Sudarsana Devi, S., Adams, R., Epstein, D., Massicano, A., Sorace, A., Singh, S., Iqbal Hossian, M., Andrabi, S. A., Crossman, D. K., Kumar, N., Shahid Mukhtar, M., Luo, H., Simpson, C., Abell, K., Stokes, M., Wiederhold, T., Rosen, C., Lu, H., Natarajan, A. and Bibb, J. A.',\n",
       " 'Year: 2023',\n",
       " 'Title: Cdk5 mediates rotational force-induced brain injury',\n",
       " 'Journal: Sci Rep',\n",
       " 'Volume: 13',\n",
       " 'Issue: 1',\n",
       " 'Pages: 3394',\n",
       " 'Epub Date: 20230228',\n",
       " 'Date: Feb 28',\n",
       " 'Short Title: Cdk5 mediates rotational force-induced brain injury',\n",
       " 'ISSN: 2045-2322 (Electronic)',\n",
       " '2045-2322 (Linking)',\n",
       " 'DOI: 10.1038/s41598-023-29322-4',\n",
       " 'Legal Note: The authors declare no competing interests.',\n",
       " 'PMCID: PMC9974974',\n",
       " 'Accession Number: 36854738',\n",
       " 'Keywords: Animals',\n",
       " 'Rats']"
      ]
     },
     "execution_count": 2,
     "metadata": {},
     "output_type": "execute_result"
    }
   ],
   "source": [
    "Data = open(\"ENDNOTE.txt\").read().splitlines()\n",
    "Data[:20]"
   ]
  },
  {
   "cell_type": "code",
   "execution_count": 3,
   "id": "e5571e85-878e-45e3-84b4-04c1ff67168f",
   "metadata": {},
   "outputs": [
    {
     "data": {
      "text/plain": [
       "Counter({'\\ufeffReference Type': 1,\n",
       "         'Record Number': 16,\n",
       "         'Author': 16,\n",
       "         'Year': 16,\n",
       "         'Title': 16,\n",
       "         'Journal': 16,\n",
       "         'Volume': 16,\n",
       "         'Issue': 13,\n",
       "         'Pages': 14,\n",
       "         'Epub Date': 15,\n",
       "         'Date': 14,\n",
       "         'Short Title': 16,\n",
       "         'ISSN': 16,\n",
       "         'DOI': 16,\n",
       "         'Legal Note': 11,\n",
       "         'PMCID': 11,\n",
       "         'Accession Number': 16,\n",
       "         'Keywords': 14,\n",
       "         'Abstract': 16,\n",
       "         'Notes': 16,\n",
       "         'Sci Rep. 2023 Feb 28;13(1)': 1,\n",
       "         'Research Notes': 16,\n",
       "         'URL': 16,\n",
       "         'Author Address': 16,\n",
       "         'Name of Database': 15,\n",
       "         'Database Provider': 15,\n",
       "         'Reference Type': 15,\n",
       "         'Entropy (Basel). 2023 Apr 18;25(4)': 1,\n",
       "         'Int J Mol Sci. 2023 Apr 16;24(8)': 1,\n",
       "         'Comput Struct Biotechnol J. 2022 Apr 21;20': 1,\n",
       "         'STAR Protoc. 2022 Aug 6;3(3)': 1,\n",
       "         'Department of Biology, University of Alabama at Birmingham, Birmingham, AL 35294, USA. Electronic address': 1,\n",
       "         'Transl Psychiatry. 2021 Jan 22;11(1)': 1,\n",
       "         'Alternate Journal': 1,\n",
       "         'Times Cited': 1,\n",
       "         'Cited References Count': 1,\n",
       "         'Language': 1,\n",
       "         'Curr Opin Plant Biol. 2021 Aug;62': 1,\n",
       "         'Department of Biology, University of Alabama at Birmingham, 1300 University Blvd., Birmingham, AL, 35294, USA. Electronic address': 1,\n",
       "         'Oncogenesis. 2021 Dec 3;10(12)': 1,\n",
       "         'iScience. 2020 Sep 25;23(9)': 1,\n",
       "         'Proc Natl Acad Sci U S A. 2020 Aug 4;117(31)': 1,\n",
       "         'Mol Plant Microbe Interact. 2019 Jan;32(1)': 1,\n",
       "         'Physiol Mol Biol Plants. 2018 Mar;24(2)': 1,\n",
       "         '2Department of Biotechnology, Hemwati Nandan Bahuguna Garhwal University, Srinagar Garhwal, Uttarakhand India. ISNI': 1,\n",
       "         '4University Grants Commission, New Delhi, India. ISNI': 1,\n",
       "         '5School of Biotechnology, Jawaharlal Nehru University, New Delhi, India. ISNI': 1,\n",
       "         'NPJ Syst Biol Appl. 2018 Aug 31;4': 1,\n",
       "         '2Nutrition Obesity Research Center, University of Alabama at Birmingham, 1675 University Blvd., Birmingham, AL 35294 USA. ISNI': 1,\n",
       "         'Interdiscip Sci. 2017 Jun;9(2)': 1,\n",
       "         'Interdiscip Sci. 2016 Mar;8(1)': 1})"
      ]
     },
     "execution_count": 3,
     "metadata": {},
     "output_type": "execute_result"
    }
   ],
   "source": [
    "\n",
    "Record_number = \"\"\n",
    "\n",
    "Fields = []\n",
    "\n",
    "for line in Data:\n",
    "    if len(line) and \":\" in line:\n",
    "        Fields.append(line.split(\":\")[0])\n",
    "        \n",
    "counter = Counter(Fields)\n",
    "MAX= counter[\"Record Number\"]-2\n",
    "\n",
    "Fields = []\n",
    "for i in counter:\n",
    "    if counter[i] >= MAX:\n",
    "        Fields.append(i)\n",
    "        \n",
    "counter"
   ]
  },
  {
   "cell_type": "code",
   "execution_count": 4,
   "id": "090d4911-66b0-48a9-bed4-a44d489d2f51",
   "metadata": {},
   "outputs": [],
   "source": [
    "Dic = defaultdict(dict)\n",
    "\n",
    "Record_number = \"\"\n",
    "\n",
    "for line in Data:\n",
    "    if len(line) and \":\" in line and line.split(\":\")[0] in Fields:\n",
    "        # print(line)\n",
    "        F = line.split(\":\")[0]\n",
    "        D = \":\".join(line.split(\":\")[1:])\n",
    "        F = F.strip()\n",
    "        D = D.strip()\n",
    "        # print(F,D)\n",
    "        if F == \"Record Number\":Record_number=D\n",
    "        \n",
    "        \n",
    "        Dic[Record_number][F] = D\n",
    "        \n"
   ]
  },
  {
   "cell_type": "code",
   "execution_count": 19,
   "id": "c5b1c8af-c551-4b59-b333-99e53568ad15",
   "metadata": {},
   "outputs": [
    {
     "name": "stdout",
     "output_type": "stream",
     "text": [
      "Umfress, A., Chakraborti, A., Priya Sudarsana Devi, S., Adams, R., Epstein, D., Massicano, A., Sorace, A., Singh, S., Iqbal Hossian, M., Andrabi, S. A., Crossman, D. K., Kumar, N., Shahid Mukhtar, M., Luo, H., Simpson, C., Abell, K., Stokes, M., Wiederhold, T., Rosen, C., Lu, H., Natarajan, A. and Bibb, J. A.,\tCdk5 mediates rotational force-induced brain injury,\tSci Rep,\t13,\t3394,\tFebruary 2023\n",
      "\n",
      "\n",
      "Kumar, N. and Mukhtar, M. S.,\tRanking Plant Network Nodes Based on Their Centrality Measures,\tEntropy (Basel),\t25,\tNA,\tApril 2023\n",
      "\n",
      "\n",
      "Kumar, N., Mishra, B. K., Liu, J., Mohan, B., Thingujam, D., Pajerowska-Mukhtar, K. M. and Mukhtar, M. S.,\tNetwork Biology Analyses and Dynamic Modeling of Gene Regulatory Networks under Drought Stress Reveal Major Transcriptional Regulators in Arabidopsis,\tInt J Mol Sci,\t24,\tNA,\tApril 2023\n",
      "\n",
      "\n",
      "Mishra, B., Kumar, N. and Shahid Mukhtar, M.,\tA rice protein interaction network reveals high centrality nodes and candidate pathogen effector targets,\tComput Struct Biotechnol J,\t20,\t2001-2012,\tApril 2022\n",
      "\n",
      "\n",
      "Kumar, N., Mishra, B. and Mukhtar, M. S.,\tA pipeline of integrating transcriptome and interactome to elucidate central nodes in host-pathogens interactions,\tSTAR Protoc,\t3,\t101608,\tAugust 2022\n",
      "\n",
      "\n",
      "Yoshino, Y., Roy, B., Kumar, N., Shahid Mukhtar, M. and Dwivedi, Y.,\tMolecular pathology associated with altered synaptic transcriptome in the dorsolateral prefrontal cortex of depressed subjects,\tTransl Psychiatry,\t11,\t73,\tJanuary 2021\n",
      "\n",
      "\n",
      "####\n",
      "Verma, N., Kumar, N., Mishra, P. and Purohit, N.,\tProfound implications of COVID-19 pandemic lockdown on the Earth's ecosystem: a case study using remote sensing data,\tCurrent Science,\t121,\t115-120,\tJul 10\n",
      "\n",
      "\n",
      "Mishra, B., Kumar, N. and Mukhtar, M. S.,\tNetwork biology to uncover functional and structural properties of the plant immune system,\tCurr Opin Plant Biol,\t62,\t102057,\tJune 2021\n",
      "\n",
      "\n",
      "Carter, A. M., Kumar, N., Herring, B., Tan, C., Guenter, R., Telange, R., Howse, W., Viol, F., McCaw, T. R., Bickerton, H. H., Gupta, P., Gillardon, F., Woltering, E. A., Dhall, D., Totenhagen, J., Banerjee, R. R., Kurian, E. M., Reddy, S., Chen, H., Schrader, J., Bart Rose, J., Mukhtar, M. S. and Bibb, J. A.,\tCdk5 drives formation of heterogeneous pancreatic neuroendocrine tumors,\tOncogenesis,\t10,\t83,\tDecember 2021\n",
      "\n",
      "\n",
      "Kumar, N., Mishra, B., Mehmood, A., Mohammad, Athar and Mukhtar, M. Shahid,\tIntegrative Network Biology Framework Elucidates Molecular Mechanisms of SARS-CoV-2 Pathogenesis,\tiScience,\t23,\t101526,\tSeptember 2020\n",
      "\n",
      "\n",
      "Carter, A. M., Tan, C., Pozo, K., Telange, R., Molinaro, R., Guo, A., De Rosa, E., Martinez, J. O., Zhang, S., Kumar, N., Takahashi, M., Wiederhold, T., Ghayee, H. K., Oltmann, S. C., Pacak, K., Woltering, E. A., Hatanpaa, K. J., Nwariaku, F. E., Grubbs, E. G., Gill, A. J., Robinson, B., Gillardon, F., Reddy, S., Jaskula-Sztul, R., Mobley, J. A., Mukhtar, M. S., Tasciotti, E., Chen, H. and Bibb, J. A.,\tPhosphoprotein-based biomarkers as predictors for cancer therapy,\tProc Natl Acad Sci U S A,\t117,\t18401-18411,\tJuly 2020\n",
      "\n",
      "\n",
      "Mishra, B., Kumar, N. and Mukhtar, M. S.,\tSystems Biology and Machine Learning in Plant-Pathogen Interactions,\tMol Plant Microbe Interact,\t32,\t45-55,\tNovember 2018\n",
      "\n",
      "\n",
      "Singh, P., Kumar, N., Jethva, M., Yadav, S., Kumari, P., Thakur, A. and Kushwaha, H. R.,\tRiboswitch regulation in cyanobacteria is independent of their habitat adaptations,\tPhysiol Mol Biol Plants,\t24,\t315-324,\tFebruary 2018\n",
      "\n",
      "\n",
      "Mishra, B., Sun, Y., Howton, T. C., Kumar, N. and Mukhtar, M. S.,\tDynamic modeling of transcriptional gene regulatory network uncovers distinct pathways during the onset of Arabidopsis leaf senescence,\tNPJ Syst Biol Appl,\t4,\t35,\tAugust 2018\n",
      "\n",
      "\n",
      "Kumar, R., Mishra, B. K., Lahiri, T., Kumar, G., Kumar, N., Gupta, R. and Pal, M. K.,\tPCV: An Alignment Free Method for Finding Homologous Nucleotide Sequences and its Application in Phylogenetic Study,\tInterdiscip Sci,\t9,\t173-183,\tJanuary 2016\n",
      "\n",
      "\n",
      "Gupta, C. L., Akhtar, S., Kumar, N., Ali, J., Pathak, N. and Bajpai, P.,\tIn Silico Elucidation and Inhibition Studies of Selected Phytoligands Against Mitogen-Activated Protein Kinases of Protozoan Parasites,\tInterdiscip Sci,\t8,\t41-52,\tAugust 2015\n",
      "\n",
      "\n"
     ]
    }
   ],
   "source": [
    "Author_pattern = re.compile(r\".,| and \")\n",
    "\n",
    "import datetime\n",
    "import calendar\n",
    "\n",
    "\n",
    "def convert_date(date_str):\n",
    "    date = datetime.datetime.strptime(date_str, \"%Y%m%d\")\n",
    "    return date.month, date.year\n",
    "\n",
    "\n",
    "for i in Dic:\n",
    "    # print(Dic[i]['Author'])\n",
    "    Author_STRING = Dic[i]['Author'].replace(\"and\", \".,\")\n",
    "    Author_list = Author_STRING.split(\".,\")\n",
    "    Dic[i]['Author_list'] = Author_list\n",
    "    Dic[i]['Author_count'] = len(Author_list)\n",
    "    \n",
    "    # print(Author_list.index(\"Kumar, N\"))\n",
    "    \n",
    "    for a in range(len(Author_list)):\n",
    "        if \"Kumar, N\" in Author_list[a]:\n",
    "            # print(a, Author_list[a])\n",
    "            Dic[i]['Author_position'] = a+1\n",
    "    \n",
    "    Dic[i]['Quartile'] = \"Q2\"\n",
    "    if not \"Pages\" in Dic[i]:Dic[i]['Pages'] = \"NA\"\n",
    "    if not \"Date\" in Dic[i]:Dic[i]['Date'] = \"NA\"\n",
    "    \n",
    "    \n",
    "    Dat = []\n",
    "    \n",
    "    Dat.append(Dic[i]['Author'])\n",
    "    Dat.append(Dic[i]['Title'])\n",
    "    Dat.append(Dic[i]['Journal'])\n",
    "    Dat.append(Dic[i]['Volume'])\n",
    "    Dat.append(Dic[i]['Pages'])\n",
    "    # Dat.append(Dic[i]['Quartile'])\n",
    "    if \"Epub Date\" in Dic[i]:\n",
    "        month, year = convert_date(Dic[i]['Epub Date'])\n",
    "        month = calendar.month_name[month]\n",
    "        Dat.append(\" \".join([month, str(year)]))\n",
    "    else:\n",
    "        print(\"####\")\n",
    "        Dat.append(Dic[i]['Date'])\n",
    "    # Dat.append(Dic[i]['DOI'])\n",
    "    # Dat.append(Dic[i]['Research Notes'].replace(\"IF:\",\"Impact Factor:\"))\n",
    "    \n",
    "    print(\",\\t\".join(Dat))\n",
    "    print(\"\\n\")"
   ]
  },
  {
   "cell_type": "code",
   "execution_count": 6,
   "id": "be2ec361-c476-4e80-8f32-eb2f1c89a88c",
   "metadata": {},
   "outputs": [],
   "source": [
    "# LOL = []\n",
    "\n",
    "# for i in Dic:\n",
    "#     SCORE = 0\n",
    "#     if Dic[i]['Author_position'] == 1 or Dic[i]['Author_position'] == Dic[i]['Author_count']:\n",
    "#         SCORE = 2\n",
    "#     elif Dic[i]['Author_position'] >= 1 and Dic[i]['Author_position'] < Dic[i]['Author_count']:\n",
    "#         SCORE = 2/(Dic[i]['Author_count']-2)\n",
    "#     LOL.append([Dic[i]['Title'], Dic[i]['Research Notes'].replace(\"IF:\",\"\"), Dic[i]['Author_count'], Dic[i]['Author_position'], SCORE])\n",
    "    \n",
    "# df = pd.DataFrame(LOL, columns=[\"Title\", \"Impact Factor\", \"Total Number of Authors\", \"Applicant Author position\", \"Credit points\"])\n",
    "# df.to_excel(\"Credit_points.xlsx\", index=False)"
   ]
  },
  {
   "cell_type": "code",
   "execution_count": 7,
   "id": "d808142e-821e-43aa-bea1-f7a6a35f1fd8",
   "metadata": {},
   "outputs": [
    {
     "data": {
      "text/plain": [
       "17.902645502645502"
      ]
     },
     "execution_count": 7,
     "metadata": {},
     "output_type": "execute_result"
    }
   ],
   "source": [
    "# df['Credit points'].sum()"
   ]
  }
 ],
 "metadata": {
  "kernelspec": {
   "display_name": "Python 3 (ipykernel)",
   "language": "python",
   "name": "python3"
  },
  "language_info": {
   "codemirror_mode": {
    "name": "ipython",
    "version": 3
   },
   "file_extension": ".py",
   "mimetype": "text/x-python",
   "name": "python",
   "nbconvert_exporter": "python",
   "pygments_lexer": "ipython3",
   "version": "3.10.9"
  }
 },
 "nbformat": 4,
 "nbformat_minor": 5
}
